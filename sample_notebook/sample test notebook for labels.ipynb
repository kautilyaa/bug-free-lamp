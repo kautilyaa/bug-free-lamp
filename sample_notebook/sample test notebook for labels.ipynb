{
 "cells": [
  {
   "cell_type": "code",
   "execution_count": null,
   "id": "6ccc102d-3058-408f-bd59-e02ca12d4ef5",
   "metadata": {},
   "outputs": [],
   "source": []
  },
  {
   "cell_type": "code",
   "execution_count": 5,
   "id": "db863135-13c6-421f-8963-88ddc298b774",
   "metadata": {},
   "outputs": [],
   "source": [
    "import re"
   ]
  },
  {
   "cell_type": "code",
   "execution_count": 34,
   "id": "72334a23-1754-410a-999d-4d78c4c956a3",
   "metadata": {},
   "outputs": [],
   "source": [
    "def is_pattern_matching(value,patterns):\n",
    "    for pattern in patterns:\n",
    "        if bool(re.search(pattern, value)):\n",
    "            return True\n",
    "    return False\n",
    "\n",
    "\n",
    "class LabelTypeIdentifier:\n",
    "    def __init__(self,config) -> None:\n",
    "        self.config = config\n",
    "    \n",
    "    def get_label_type(self, label):\n",
    "        matching_label_types = []\n",
    "        for key, value in self.config.items():\n",
    "            if is_pattern_matching(label, value[\"patterns\"]):\n",
    "                a = value[\"patterns\"]\n",
    "                print(f\"{label}           {a}\")\n",
    "                matching_label_types.append(key)\n",
    "        return matching_label_types"
   ]
  },
  {
   "cell_type": "code",
   "execution_count": 35,
   "id": "4c56ef10-df3b-4a4a-89ef-a251c1c74ca6",
   "metadata": {},
   "outputs": [],
   "source": [
    "labels = [\"acc no\",  \"Order Number\"]"
   ]
  },
  {
   "cell_type": "code",
   "execution_count": 36,
   "id": "2386056c-cace-4eeb-bec4-18c3122963d4",
   "metadata": {},
   "outputs": [],
   "source": [
    "config = {'name': {'patterns': ['[\\\\w\\\\s]*nm', '[\\\\w\\\\s]*name'], 'error_rules': {'rules': ['is_only_alphabet', 'check_continuous_spl_chrs'], 'error_msg': 'Given label did not pass the validation failed as it does not contain alphabet or is not continuous!', 'level': 'Error'}, 'spl_chars_allowed': ' ,-'}, 'email': {'patterns': ['[\\\\w\\\\s]*mail', '[\\\\w\\\\s]*email'], 'error_rules': {'rules': ['is_valid_email', 'check_continuous_spl_chrs'], 'error_msg': 'Mail Validation failed', 'level': 'Error'}, 'spl_chars_allowed': ''}, 'numerical_id': {'patterns': ['acc[\\\\w\\\\s]*no', 'account[\\\\w\\\\s]*number', 'ssn', 'social security number', '[\\\\w\\\\s]*qty', '[\\\\w\\\\s]*quantity', 'year', 'month', 'day'], 'error_rules': {'rules': ['is_only_number', 'check_continuous_spl_chrs'], 'error_msg': 'Mail Validation failed', 'level': 'Error'}, 'spl_chars_allowed': '-() '}, 'others': {'patterns': ['not a pattern'], 'error_rules': {'rules': ['check_others'], 'error_msg': 'Given label did not match with any other labels!', 'level': 'other'}, 'spl_chars_allowed': ''}}"
   ]
  },
  {
   "cell_type": "code",
   "execution_count": 37,
   "id": "b9a19bcf-7066-4525-b264-17904e672802",
   "metadata": {},
   "outputs": [
    {
     "data": {
      "text/plain": [
       "{'name': {'patterns': ['[\\\\w\\\\s]*nm', '[\\\\w\\\\s]*name'],\n",
       "  'error_rules': {'rules': ['is_only_alphabet', 'check_continuous_spl_chrs'],\n",
       "   'error_msg': 'Given label did not pass the validation failed as it does not contain alphabet or is not continuous!',\n",
       "   'level': 'Error'},\n",
       "  'spl_chars_allowed': ' ,-'},\n",
       " 'email': {'patterns': ['[\\\\w\\\\s]*mail', '[\\\\w\\\\s]*email'],\n",
       "  'error_rules': {'rules': ['is_valid_email', 'check_continuous_spl_chrs'],\n",
       "   'error_msg': 'Mail Validation failed',\n",
       "   'level': 'Error'},\n",
       "  'spl_chars_allowed': ''},\n",
       " 'numerical_id': {'patterns': ['acc[\\\\w\\\\s]*no',\n",
       "   'account[\\\\w\\\\s]*number',\n",
       "   'ssn',\n",
       "   'social security number',\n",
       "   '[\\\\w\\\\s]*qty',\n",
       "   '[\\\\w\\\\s]*quantity',\n",
       "   'year',\n",
       "   'month',\n",
       "   'day'],\n",
       "  'error_rules': {'rules': ['is_only_number', 'check_continuous_spl_chrs'],\n",
       "   'error_msg': 'Mail Validation failed',\n",
       "   'level': 'Error'},\n",
       "  'spl_chars_allowed': '-() '},\n",
       " 'others': {'patterns': ['not a pattern'],\n",
       "  'error_rules': {'rules': ['check_others'],\n",
       "   'error_msg': 'Given label did not match with any other labels!',\n",
       "   'level': 'other'},\n",
       "  'spl_chars_allowed': ''}}"
      ]
     },
     "execution_count": 37,
     "metadata": {},
     "output_type": "execute_result"
    }
   ],
   "source": [
    "config"
   ]
  },
  {
   "cell_type": "code",
   "execution_count": 38,
   "id": "fda6720f-988e-4ced-a095-0bacec0880dd",
   "metadata": {},
   "outputs": [],
   "source": [
    "ltc = LabelTypeIdentifier(config)"
   ]
  },
  {
   "cell_type": "code",
   "execution_count": 39,
   "id": "270cecf7-4ab9-4598-9cac-5c82f72f5751",
   "metadata": {},
   "outputs": [
    {
     "name": "stdout",
     "output_type": "stream",
     "text": [
      "acc no           ['acc[\\\\w\\\\s]*no', 'account[\\\\w\\\\s]*number', 'ssn', 'social security number', '[\\\\w\\\\s]*qty', '[\\\\w\\\\s]*quantity', 'year', 'month', 'day']\n"
     ]
    },
    {
     "data": {
      "text/plain": [
       "['numerical_id']"
      ]
     },
     "execution_count": 39,
     "metadata": {},
     "output_type": "execute_result"
    }
   ],
   "source": [
    "ltc.get_label_type(labels[0])"
   ]
  },
  {
   "cell_type": "code",
   "execution_count": 40,
   "id": "10b47bd4-5e92-4343-823d-8fc92dfda838",
   "metadata": {},
   "outputs": [
    {
     "name": "stdout",
     "output_type": "stream",
     "text": [
      "name\t\n",
      "['[\\\\w\\\\s]*nm', '[\\\\w\\\\s]*name']\n",
      "\n",
      "\n",
      "\n",
      "email\t\n",
      "['[\\\\w\\\\s]*mail', '[\\\\w\\\\s]*email']\n",
      "\n",
      "\n",
      "\n",
      "numerical_id\t\n",
      "['acc[\\\\w\\\\s]*no', 'account[\\\\w\\\\s]*number', 'ssn', 'social security number', '[\\\\w\\\\s]*qty', '[\\\\w\\\\s]*quantity', 'year', 'month', 'day']\n",
      "\n",
      "\n",
      "\n",
      "others\t\n",
      "['not a pattern']\n",
      "\n",
      "\n",
      "\n"
     ]
    }
   ],
   "source": [
    "for k,v in config.items():\n",
    "    # print(k +\"\\t\"+v)\n",
    "    print(f\"{k}\\t\")\n",
    "    print(v[\"patterns\"])\n",
    "    print(\"\\n\\n\")"
   ]
  },
  {
   "cell_type": "code",
   "execution_count": 41,
   "id": "d2fdbde2-657e-40ba-8fbd-c59271803c9d",
   "metadata": {},
   "outputs": [
    {
     "data": {
      "text/plain": [
       "True"
      ]
     },
     "execution_count": 41,
     "metadata": {},
     "output_type": "execute_result"
    }
   ],
   "source": [
    "is_pattern_matching(labels[0], ['acc[\\\\w\\\\s]*no', 'account[\\\\w\\\\s]*number', 'ssn', 'social security number', '[\\\\w\\\\s]*qty', '[\\\\w\\\\s]*quantity', 'year', 'month', 'day'])#['acc[\\\\w\\\\s]*no'])"
   ]
  },
  {
   "cell_type": "code",
   "execution_count": null,
   "id": "732792c2-8793-45e1-b849-57f38525f413",
   "metadata": {},
   "outputs": [],
   "source": []
  }
 ],
 "metadata": {
  "kernelspec": {
   "display_name": "Python 3 (ipykernel)",
   "language": "python",
   "name": "python3"
  },
  "language_info": {
   "codemirror_mode": {
    "name": "ipython",
    "version": 3
   },
   "file_extension": ".py",
   "mimetype": "text/x-python",
   "name": "python",
   "nbconvert_exporter": "python",
   "pygments_lexer": "ipython3",
   "version": "3.10.14"
  }
 },
 "nbformat": 4,
 "nbformat_minor": 5
}
